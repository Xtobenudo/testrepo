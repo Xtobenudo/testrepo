{
 "cells": [
  {
   "cell_type": "markdown",
   "id": "7d835ce6-15a6-468d-a75c-548a720e917c",
   "metadata": {},
   "source": [
    "I am in love with Data science"
   ]
  },
  {
   "cell_type": "code",
   "execution_count": 1,
   "id": "1c1d7b7b-7b5f-48d4-9eea-d537a7dc38fd",
   "metadata": {},
   "outputs": [
    {
     "name": "stdout",
     "output_type": "stream",
     "text": [
      "This is my Assignment\n"
     ]
    }
   ],
   "source": [
    "print(\"This is my Assignment\")"
   ]
  },
  {
   "cell_type": "code",
   "execution_count": 3,
   "id": "2c088095-733e-4928-8cbc-19d5b454e174",
   "metadata": {},
   "outputs": [
    {
     "name": "stdout",
     "output_type": "stream",
     "text": [
      "I am 20 years old.\n"
     ]
    }
   ],
   "source": [
    "a = 7\n",
    "b = 13\n",
    "myAge = a + b\n",
    "print(\"I am\", myAge, \"years old.\")"
   ]
  },
  {
   "cell_type": "code",
   "execution_count": null,
   "id": "2ca60269-5c27-4ddd-a542-04eda83405bc",
   "metadata": {},
   "outputs": [],
   "source": []
  }
 ],
 "metadata": {
  "kernelspec": {
   "display_name": "Python",
   "language": "python",
   "name": "conda-env-python-py"
  },
  "language_info": {
   "codemirror_mode": {
    "name": "ipython",
    "version": 3
   },
   "file_extension": ".py",
   "mimetype": "text/x-python",
   "name": "python",
   "nbconvert_exporter": "python",
   "pygments_lexer": "ipython3",
   "version": "3.7.12"
  }
 },
 "nbformat": 4,
 "nbformat_minor": 5
}
